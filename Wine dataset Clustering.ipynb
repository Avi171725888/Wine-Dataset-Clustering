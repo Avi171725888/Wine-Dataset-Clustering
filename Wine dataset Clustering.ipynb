{
 "cells": [
  {
   "cell_type": "markdown",
   "id": "a84e00ac-5def-4cb3-a11e-5dc8e1e57063",
   "metadata": {},
   "source": [
    " The objective of this assignment is to implement PCA on a given dataset and analyse the results."
   ]
  },
  {
   "cell_type": "markdown",
   "id": "20f9db65-8f86-45ad-89e9-c45fea72eb7f",
   "metadata": {},
   "source": [
    "Download the wine dataset from the UCI Machine Learning Repository\n",
    "Load the dataset into a Pandas dataframe.\n",
    "Split the dataset into features and target variables.\n",
    "Perform data preprocessing (e.g., scaling, normalisation, missing value imputation) as necessary.\n",
    "Implement PCA on the preprocessed dataset using the scikit-learn library.\n",
    "Determine the optimal number of principal components to retain based on the explained variance ratio.\n",
    "Visualise the results of PCA using a scatter plot.\n",
    "Perform clustering on the PCA-transformed data using K-Means clustering algorithm.\n",
    "Interpret the results of PCA and clustering analysis."
   ]
  },
  {
   "cell_type": "code",
   "execution_count": 90,
   "id": "0d002657-af91-42ce-9416-146c3479fe71",
   "metadata": {},
   "outputs": [],
   "source": [
    "import pandas as pd\n",
    "import numpy as np\n",
    "import matplotlib.pyplot as plt\n",
    "import seaborn as sns"
   ]
  },
  {
   "cell_type": "code",
   "execution_count": 91,
   "id": "49e79647-f81c-409e-932f-799172f6db81",
   "metadata": {},
   "outputs": [],
   "source": [
    "df=pd.read_csv(\"wine.csv\")\n",
    "df.drop(index=0,inplace=True)"
   ]
  },
  {
   "cell_type": "code",
   "execution_count": 92,
   "id": "5c7eace8-8474-48eb-8beb-2f8250d25fe9",
   "metadata": {},
   "outputs": [
    {
     "data": {
      "text/html": [
       "<div>\n",
       "<style scoped>\n",
       "    .dataframe tbody tr th:only-of-type {\n",
       "        vertical-align: middle;\n",
       "    }\n",
       "\n",
       "    .dataframe tbody tr th {\n",
       "        vertical-align: top;\n",
       "    }\n",
       "\n",
       "    .dataframe thead th {\n",
       "        text-align: right;\n",
       "    }\n",
       "</style>\n",
       "<table border=\"1\" class=\"dataframe\">\n",
       "  <thead>\n",
       "    <tr style=\"text-align: right;\">\n",
       "      <th></th>\n",
       "      <th>1</th>\n",
       "      <th>14.23</th>\n",
       "      <th>1.71</th>\n",
       "      <th>2.43</th>\n",
       "      <th>15.6</th>\n",
       "      <th>127</th>\n",
       "      <th>2.8</th>\n",
       "      <th>3.06</th>\n",
       "      <th>.28</th>\n",
       "      <th>2.29</th>\n",
       "      <th>5.64</th>\n",
       "      <th>1.04</th>\n",
       "      <th>3.92</th>\n",
       "      <th>1065</th>\n",
       "    </tr>\n",
       "  </thead>\n",
       "  <tbody>\n",
       "    <tr>\n",
       "      <th>1</th>\n",
       "      <td>1</td>\n",
       "      <td>13.16</td>\n",
       "      <td>2.36</td>\n",
       "      <td>2.67</td>\n",
       "      <td>18.6</td>\n",
       "      <td>101</td>\n",
       "      <td>2.80</td>\n",
       "      <td>3.24</td>\n",
       "      <td>0.30</td>\n",
       "      <td>2.81</td>\n",
       "      <td>5.68</td>\n",
       "      <td>1.03</td>\n",
       "      <td>3.17</td>\n",
       "      <td>1185</td>\n",
       "    </tr>\n",
       "    <tr>\n",
       "      <th>2</th>\n",
       "      <td>1</td>\n",
       "      <td>14.37</td>\n",
       "      <td>1.95</td>\n",
       "      <td>2.50</td>\n",
       "      <td>16.8</td>\n",
       "      <td>113</td>\n",
       "      <td>3.85</td>\n",
       "      <td>3.49</td>\n",
       "      <td>0.24</td>\n",
       "      <td>2.18</td>\n",
       "      <td>7.80</td>\n",
       "      <td>0.86</td>\n",
       "      <td>3.45</td>\n",
       "      <td>1480</td>\n",
       "    </tr>\n",
       "    <tr>\n",
       "      <th>3</th>\n",
       "      <td>1</td>\n",
       "      <td>13.24</td>\n",
       "      <td>2.59</td>\n",
       "      <td>2.87</td>\n",
       "      <td>21.0</td>\n",
       "      <td>118</td>\n",
       "      <td>2.80</td>\n",
       "      <td>2.69</td>\n",
       "      <td>0.39</td>\n",
       "      <td>1.82</td>\n",
       "      <td>4.32</td>\n",
       "      <td>1.04</td>\n",
       "      <td>2.93</td>\n",
       "      <td>735</td>\n",
       "    </tr>\n",
       "    <tr>\n",
       "      <th>4</th>\n",
       "      <td>1</td>\n",
       "      <td>14.20</td>\n",
       "      <td>1.76</td>\n",
       "      <td>2.45</td>\n",
       "      <td>15.2</td>\n",
       "      <td>112</td>\n",
       "      <td>3.27</td>\n",
       "      <td>3.39</td>\n",
       "      <td>0.34</td>\n",
       "      <td>1.97</td>\n",
       "      <td>6.75</td>\n",
       "      <td>1.05</td>\n",
       "      <td>2.85</td>\n",
       "      <td>1450</td>\n",
       "    </tr>\n",
       "    <tr>\n",
       "      <th>5</th>\n",
       "      <td>1</td>\n",
       "      <td>14.39</td>\n",
       "      <td>1.87</td>\n",
       "      <td>2.45</td>\n",
       "      <td>14.6</td>\n",
       "      <td>96</td>\n",
       "      <td>2.50</td>\n",
       "      <td>2.52</td>\n",
       "      <td>0.30</td>\n",
       "      <td>1.98</td>\n",
       "      <td>5.25</td>\n",
       "      <td>1.02</td>\n",
       "      <td>3.58</td>\n",
       "      <td>1290</td>\n",
       "    </tr>\n",
       "  </tbody>\n",
       "</table>\n",
       "</div>"
      ],
      "text/plain": [
       "   1  14.23  1.71  2.43  15.6  127   2.8  3.06   .28  2.29  5.64  1.04  3.92  \\\n",
       "1  1  13.16  2.36  2.67  18.6  101  2.80  3.24  0.30  2.81  5.68  1.03  3.17   \n",
       "2  1  14.37  1.95  2.50  16.8  113  3.85  3.49  0.24  2.18  7.80  0.86  3.45   \n",
       "3  1  13.24  2.59  2.87  21.0  118  2.80  2.69  0.39  1.82  4.32  1.04  2.93   \n",
       "4  1  14.20  1.76  2.45  15.2  112  3.27  3.39  0.34  1.97  6.75  1.05  2.85   \n",
       "5  1  14.39  1.87  2.45  14.6   96  2.50  2.52  0.30  1.98  5.25  1.02  3.58   \n",
       "\n",
       "   1065  \n",
       "1  1185  \n",
       "2  1480  \n",
       "3   735  \n",
       "4  1450  \n",
       "5  1290  "
      ]
     },
     "execution_count": 92,
     "metadata": {},
     "output_type": "execute_result"
    }
   ],
   "source": [
    "df.head()"
   ]
  },
  {
   "cell_type": "code",
   "execution_count": 93,
   "id": "1c2b3075-17a6-4e17-a0fb-26279b30ed94",
   "metadata": {},
   "outputs": [],
   "source": [
    "df.columns=['Output','Alcohol','Malic acid','Ash','Alcalinity of ash','Magnesium','Total phenols','Flavanoids','Nonflavanoid phenols','Proanthocyanins','Color intensity','Hue','OD280/OD315 of diluted wines','Proline']"
   ]
  },
  {
   "cell_type": "code",
   "execution_count": 94,
   "id": "263289de-1ea2-4787-b484-2b9c27dad248",
   "metadata": {},
   "outputs": [
    {
     "name": "stdout",
     "output_type": "stream",
     "text": [
      "<class 'pandas.core.frame.DataFrame'>\n",
      "RangeIndex: 176 entries, 1 to 176\n",
      "Data columns (total 14 columns):\n",
      " #   Column                        Non-Null Count  Dtype  \n",
      "---  ------                        --------------  -----  \n",
      " 0   Output                        176 non-null    int64  \n",
      " 1   Alcohol                       176 non-null    float64\n",
      " 2   Malic acid                    176 non-null    float64\n",
      " 3   Ash                           176 non-null    float64\n",
      " 4   Alcalinity of ash             176 non-null    float64\n",
      " 5   Magnesium                     176 non-null    int64  \n",
      " 6   Total phenols                 176 non-null    float64\n",
      " 7   Flavanoids                    176 non-null    float64\n",
      " 8   Nonflavanoid phenols          176 non-null    float64\n",
      " 9   Proanthocyanins               176 non-null    float64\n",
      " 10  Color intensity               176 non-null    float64\n",
      " 11  Hue                           176 non-null    float64\n",
      " 12  OD280/OD315 of diluted wines  176 non-null    float64\n",
      " 13  Proline                       176 non-null    int64  \n",
      "dtypes: float64(11), int64(3)\n",
      "memory usage: 19.4 KB\n"
     ]
    }
   ],
   "source": [
    "df.info()"
   ]
  },
  {
   "cell_type": "code",
   "execution_count": 95,
   "id": "1195a81e-cc68-482d-9ba2-c36a7e57d816",
   "metadata": {},
   "outputs": [],
   "source": [
    "X=df.drop(columns=[\"Output\"])\n",
    "y=df[\"Output\"]"
   ]
  },
  {
   "cell_type": "code",
   "execution_count": 96,
   "id": "1eb87477-8723-4151-97b1-ad10d1a93b4b",
   "metadata": {},
   "outputs": [
    {
     "data": {
      "text/plain": [
       "(     Alcohol  Malic acid   Ash  Alcalinity of ash  Magnesium  Total phenols  \\\n",
       " 1      13.16        2.36  2.67               18.6        101           2.80   \n",
       " 2      14.37        1.95  2.50               16.8        113           3.85   \n",
       " 3      13.24        2.59  2.87               21.0        118           2.80   \n",
       " 4      14.20        1.76  2.45               15.2        112           3.27   \n",
       " 5      14.39        1.87  2.45               14.6         96           2.50   \n",
       " ..       ...         ...   ...                ...        ...            ...   \n",
       " 172    13.71        5.65  2.45               20.5         95           1.68   \n",
       " 173    13.40        3.91  2.48               23.0        102           1.80   \n",
       " 174    13.27        4.28  2.26               20.0        120           1.59   \n",
       " 175    13.17        2.59  2.37               20.0        120           1.65   \n",
       " 176    14.13        4.10  2.74               24.5         96           2.05   \n",
       " \n",
       "      Flavanoids  Nonflavanoid phenols  Proanthocyanins  Color intensity   Hue  \\\n",
       " 1          3.24                  0.30             2.81             5.68  1.03   \n",
       " 2          3.49                  0.24             2.18             7.80  0.86   \n",
       " 3          2.69                  0.39             1.82             4.32  1.04   \n",
       " 4          3.39                  0.34             1.97             6.75  1.05   \n",
       " 5          2.52                  0.30             1.98             5.25  1.02   \n",
       " ..          ...                   ...              ...              ...   ...   \n",
       " 172        0.61                  0.52             1.06             7.70  0.64   \n",
       " 173        0.75                  0.43             1.41             7.30  0.70   \n",
       " 174        0.69                  0.43             1.35            10.20  0.59   \n",
       " 175        0.68                  0.53             1.46             9.30  0.60   \n",
       " 176        0.76                  0.56             1.35             9.20  0.61   \n",
       " \n",
       "      OD280/OD315 of diluted wines  Proline  \n",
       " 1                            3.17     1185  \n",
       " 2                            3.45     1480  \n",
       " 3                            2.93      735  \n",
       " 4                            2.85     1450  \n",
       " 5                            3.58     1290  \n",
       " ..                            ...      ...  \n",
       " 172                          1.74      740  \n",
       " 173                          1.56      750  \n",
       " 174                          1.56      835  \n",
       " 175                          1.62      840  \n",
       " 176                          1.60      560  \n",
       " \n",
       " [176 rows x 13 columns],\n",
       " 1      1\n",
       " 2      1\n",
       " 3      1\n",
       " 4      1\n",
       " 5      1\n",
       "       ..\n",
       " 172    3\n",
       " 173    3\n",
       " 174    3\n",
       " 175    3\n",
       " 176    3\n",
       " Name: Output, Length: 176, dtype: int64)"
      ]
     },
     "execution_count": 96,
     "metadata": {},
     "output_type": "execute_result"
    }
   ],
   "source": [
    "X,y"
   ]
  },
  {
   "cell_type": "code",
   "execution_count": 97,
   "id": "a3481152-ebe5-4554-b8de-44f69bb08f4c",
   "metadata": {},
   "outputs": [],
   "source": [
    "from sklearn.model_selection import train_test_split\n",
    "X_train,X_test,y_train,y_test=train_test_split(X,y,test_size=0.33,random_state=42)"
   ]
  },
  {
   "cell_type": "code",
   "execution_count": 98,
   "id": "f03e32de-29b8-4466-a34a-2ffc585e77c7",
   "metadata": {},
   "outputs": [],
   "source": [
    "from sklearn.pipeline import Pipeline\n",
    "from sklearn.impute import SimpleImputer\n",
    "from sklearn.preprocessing import StandardScaler\n",
    "from sklearn.compose import ColumnTransformer"
   ]
  },
  {
   "cell_type": "code",
   "execution_count": 99,
   "id": "30271b9e-4425-4847-aea7-5fd7fb3a43dd",
   "metadata": {},
   "outputs": [],
   "source": [
    "numerical_pipe=Pipeline(steps=[\n",
    "    (\"Imputer\",SimpleImputer(strategy='median')),\n",
    "    (\"Scaler\",StandardScaler())\n",
    "\n",
    "])"
   ]
  },
  {
   "cell_type": "code",
   "execution_count": 100,
   "id": "77251f59-27b1-426e-9d3f-76611d328f31",
   "metadata": {},
   "outputs": [],
   "source": [
    "compose=ColumnTransformer(transformers=[\n",
    "    (\"numerical_cat\",numerical_pipe,X.columns)\n",
    "])"
   ]
  },
  {
   "cell_type": "code",
   "execution_count": 101,
   "id": "e378a104-8193-48c9-aa36-32f6dec35e22",
   "metadata": {},
   "outputs": [],
   "source": [
    "X_train=compose.fit_transform(X_train)\n",
    "X_test=compose.fit_transform(X_test)"
   ]
  },
  {
   "cell_type": "code",
   "execution_count": 102,
   "id": "13d0083c-6b44-43ca-8d6e-192a8a5fef31",
   "metadata": {},
   "outputs": [
    {
     "data": {
      "text/plain": [
       "(117, 13)"
      ]
     },
     "execution_count": 102,
     "metadata": {},
     "output_type": "execute_result"
    }
   ],
   "source": [
    "X_train.shape"
   ]
  },
  {
   "cell_type": "code",
   "execution_count": 103,
   "id": "dc365250-1423-4b78-ab64-d377490d4eef",
   "metadata": {},
   "outputs": [
    {
     "data": {
      "text/plain": [
       "(59, 13)"
      ]
     },
     "execution_count": 103,
     "metadata": {},
     "output_type": "execute_result"
    }
   ],
   "source": [
    "X_test.shape"
   ]
  },
  {
   "cell_type": "code",
   "execution_count": 104,
   "id": "e387d825-e199-4967-af4a-4a4fc7b2566d",
   "metadata": {},
   "outputs": [],
   "source": [
    "from sklearn.decomposition import PCA"
   ]
  },
  {
   "cell_type": "code",
   "execution_count": 105,
   "id": "1264e186-352a-4992-bff8-94f2c4d3ea08",
   "metadata": {},
   "outputs": [],
   "source": [
    "pca=PCA(n_components=4)"
   ]
  },
  {
   "cell_type": "code",
   "execution_count": 106,
   "id": "3c498237-7e1a-4ec3-818f-27f1ef774488",
   "metadata": {},
   "outputs": [],
   "source": [
    "X_train=pca.fit_transform(X_train)"
   ]
  },
  {
   "cell_type": "code",
   "execution_count": 107,
   "id": "a316e9d6-e2f5-4c98-b20a-1e8cb5e8868d",
   "metadata": {},
   "outputs": [
    {
     "data": {
      "text/plain": [
       "array([[ 1.94855858e+00,  2.80531681e-01, -9.67667635e-01,\n",
       "        -8.32126959e-02],\n",
       "       [-3.50903657e+00, -1.16276719e+00,  3.22858349e-01,\n",
       "        -9.92902953e-01],\n",
       "       [ 1.70991016e+00,  2.25928336e+00, -5.04575404e-01,\n",
       "        -1.89708411e+00],\n",
       "       [ 1.97870553e+00,  1.07582577e+00, -1.83708797e+00,\n",
       "        -7.01046973e-01],\n",
       "       [-2.88284118e+00, -1.14612019e+00,  1.36096971e+00,\n",
       "        -1.29502418e-01],\n",
       "       [ 3.73982345e+00, -9.43387851e-01,  1.39204670e+00,\n",
       "        -1.62142263e+00],\n",
       "       [ 2.69918668e+00, -8.69387260e-01,  1.80308507e+00,\n",
       "        -3.49176850e-01],\n",
       "       [ 2.42885207e+00, -2.17843657e-01,  1.08563192e+00,\n",
       "        -2.45849463e-01],\n",
       "       [-2.52807293e+00, -6.37488869e-01,  6.91307322e-01,\n",
       "         9.06896348e-02],\n",
       "       [ 2.62125391e+00, -1.18629756e+00,  9.03077048e-01,\n",
       "        -3.60552673e-01],\n",
       "       [ 1.53484738e+00, -8.17657088e-01, -8.04865394e-01,\n",
       "         9.91172689e-01],\n",
       "       [ 1.18061616e+00,  2.68645164e+00,  1.17510996e+00,\n",
       "         5.35759705e-03],\n",
       "       [-3.20895184e+00,  2.44849394e-01,  6.86913450e-01,\n",
       "         8.73537295e-01],\n",
       "       [-1.46079791e+00,  1.20451498e+00, -1.22768339e-01,\n",
       "         1.42939092e+00],\n",
       "       [ 2.27989183e+00, -5.69940622e-01,  8.40534627e-01,\n",
       "        -2.23721367e-01],\n",
       "       [-2.69861598e+00, -1.44185493e+00,  6.89773519e-01,\n",
       "        -6.65145815e-01],\n",
       "       [ 3.72781571e-02,  2.20976804e+00, -1.46280168e-01,\n",
       "        -6.90291601e-01],\n",
       "       [ 2.76371362e+00, -1.08357368e+00, -8.88097970e-01,\n",
       "        -1.03463190e+00],\n",
       "       [-3.02615169e+00, -1.65623890e-01,  1.13455882e+00,\n",
       "         6.94774303e-02],\n",
       "       [-1.34534867e+00,  1.36042005e+00, -3.22939589e+00,\n",
       "        -9.87382370e-01],\n",
       "       [ 2.45992671e+00,  2.09641809e+00,  2.50543724e+00,\n",
       "        -1.17857060e+00],\n",
       "       [ 2.92337551e+00, -1.29582558e+00,  6.89080801e-01,\n",
       "        -1.20114263e+00],\n",
       "       [ 2.41454967e+00,  1.58825391e+00,  6.15585383e-01,\n",
       "        -4.76527456e-01],\n",
       "       [ 2.76898709e+00, -1.20485164e+00, -1.37810383e+00,\n",
       "        -4.49342566e-01],\n",
       "       [ 3.18006116e+00, -1.21977521e+00,  3.86964284e-01,\n",
       "         4.00406260e-02],\n",
       "       [-2.36116554e-01,  2.04107657e+00, -1.09966745e+00,\n",
       "        -8.50675131e-01],\n",
       "       [ 1.32801147e+00,  1.06806791e-01,  1.22283398e+00,\n",
       "         6.07632975e-01],\n",
       "       [ 1.19277638e+00, -1.12889919e+00, -4.12870255e+00,\n",
       "         4.69351442e-01],\n",
       "       [-2.28292098e+00, -2.30208058e-01, -1.32601089e+00,\n",
       "         2.09636451e-01],\n",
       "       [-2.32040526e+00,  2.62630168e-01, -2.43736593e-01,\n",
       "        -1.79499428e+00],\n",
       "       [ 1.21286935e+00,  1.50731963e+00,  3.97743170e-01,\n",
       "        -1.93253633e-01],\n",
       "       [-6.07350841e-01,  2.34685641e+00, -9.44958254e-01,\n",
       "         3.00824046e-01],\n",
       "       [ 8.07473464e-01, -2.02184725e-01,  9.03973647e-01,\n",
       "        -8.56634509e-01],\n",
       "       [-5.47682301e-01,  2.80253709e+00,  8.89709971e-01,\n",
       "        -1.57232492e-02],\n",
       "       [-9.78088790e-01,  1.95091013e+00, -9.61478856e-01,\n",
       "        -2.57614254e-01],\n",
       "       [-9.55536188e-01,  5.22313696e-01, -2.97242860e+00,\n",
       "        -1.13052209e+00],\n",
       "       [-3.26990434e+00, -2.20089011e+00,  4.54499018e-01,\n",
       "        -1.25999082e+00],\n",
       "       [-2.24652733e+00, -2.61547999e+00, -6.55246658e-01,\n",
       "         1.41275968e+00],\n",
       "       [ 2.85840637e+00, -1.77665233e+00,  7.64723989e-01,\n",
       "        -1.43574030e-01],\n",
       "       [-5.12276296e-01, -1.19558789e-01, -2.09233308e+00,\n",
       "         3.08128622e+00],\n",
       "       [-2.24670223e+00, -4.55827182e-01,  2.51129221e-01,\n",
       "        -8.86518683e-01],\n",
       "       [-2.29231358e+00, -2.64803354e+00, -4.48812982e-01,\n",
       "         9.59368400e-02],\n",
       "       [ 2.22343475e+00,  2.06415940e+00,  3.09281604e-01,\n",
       "        -1.95576113e-01],\n",
       "       [-8.37804669e-01,  2.43713255e+00,  1.31522249e+00,\n",
       "         1.45461521e+00],\n",
       "       [ 2.08684847e+00, -2.23873086e-01, -3.98767713e-01,\n",
       "        -1.82707514e-01],\n",
       "       [ 2.23966401e-01,  1.43411604e+00, -2.38818246e-01,\n",
       "        -1.12577825e+00],\n",
       "       [-2.28343059e+00,  7.71874649e-01,  1.18085859e+00,\n",
       "        -6.71560895e-02],\n",
       "       [-2.70560173e+00, -2.27265446e-01, -7.99841956e-01,\n",
       "         3.33512969e-01],\n",
       "       [-5.22124080e-01,  1.93272405e+00, -1.08621184e+00,\n",
       "         1.62366539e+00],\n",
       "       [-2.34768597e+00, -2.39374100e+00,  4.29098471e-01,\n",
       "         7.50373637e-01],\n",
       "       [-3.63623361e-01,  2.12268800e+00, -1.14601553e+00,\n",
       "        -2.42760655e-01],\n",
       "       [ 4.32375395e-02,  1.79347286e+00, -8.68338488e-01,\n",
       "         7.91238154e-01],\n",
       "       [-1.40629243e+00,  1.51299477e+00, -2.32285778e-01,\n",
       "        -6.39831791e-01],\n",
       "       [ 2.65808493e+00, -1.52021457e+00, -5.66530536e-01,\n",
       "         2.58069515e-01],\n",
       "       [ 2.11798348e+00, -1.85066229e+00, -5.33623506e-01,\n",
       "         1.30228646e+00],\n",
       "       [-3.07923355e+00, -5.62307398e-01,  4.24149364e-01,\n",
       "        -9.01801458e-01],\n",
       "       [ 3.17400229e+00, -2.16370742e+00,  5.94918379e-01,\n",
       "         1.61054749e-01],\n",
       "       [-3.36504356e+00, -7.79554604e-01,  5.53632264e-01,\n",
       "        -1.11210715e+00],\n",
       "       [ 3.08639255e+00, -7.48097033e-01, -9.82109122e-02,\n",
       "        -2.66870299e-01],\n",
       "       [ 1.23576756e+00, -9.20652146e-02, -1.77306142e-01,\n",
       "         7.75513983e-01],\n",
       "       [-2.79063787e-01,  2.60424813e+00, -1.43368717e+00,\n",
       "         7.16255936e-03],\n",
       "       [ 6.02611123e-01,  9.57983308e-01, -1.68005984e+00,\n",
       "        -1.17423651e+00],\n",
       "       [ 1.45700288e+00, -7.20075973e-01, -7.40392951e-01,\n",
       "         1.14912763e+00],\n",
       "       [ 2.24328523e+00, -1.25621147e+00,  1.24278730e-01,\n",
       "        -6.31561924e-01],\n",
       "       [ 2.88747239e+00, -7.84430574e-01,  1.13692597e+00,\n",
       "        -7.95382160e-02],\n",
       "       [ 1.22778848e+00, -1.97557070e+00, -6.63707241e-02,\n",
       "        -1.84890099e-01],\n",
       "       [-5.48278754e-01,  1.13986436e+00, -8.83982132e-02,\n",
       "         1.97097148e-01],\n",
       "       [-3.79507107e+00, -6.19967286e-01, -1.66274248e+00,\n",
       "        -1.25833930e+00],\n",
       "       [-1.22321067e+00,  7.96363868e-01, -2.29133011e+00,\n",
       "         6.38920110e-01],\n",
       "       [ 9.35847894e-01,  2.28413321e+00, -2.76006167e-02,\n",
       "        -6.18480392e-01],\n",
       "       [ 9.10069217e-01,  1.99940589e+00,  3.89317249e-02,\n",
       "         1.04145704e+00],\n",
       "       [-3.26859381e+00, -1.16264362e+00, -1.50680959e+00,\n",
       "        -5.54422426e-01],\n",
       "       [-2.17217457e+00, -1.18778553e+00, -1.74509878e-01,\n",
       "         7.07452297e-01],\n",
       "       [-1.37966992e+00,  1.99766931e+00, -8.30021274e-01,\n",
       "        -1.83219052e-01],\n",
       "       [ 3.69360569e+00, -1.39664566e+00,  3.47883569e-01,\n",
       "        -2.32347341e-01],\n",
       "       [ 2.39045584e+00, -1.72883683e+00, -4.61278840e-01,\n",
       "         1.07769721e+00],\n",
       "       [-1.83940798e+00,  9.87138249e-01,  1.52484679e+00,\n",
       "         1.26137206e+00],\n",
       "       [-2.83343069e+00, -1.41550825e+00,  1.09772399e+00,\n",
       "        -1.92726083e-01],\n",
       "       [-2.11310919e+00, -5.29700983e-01,  1.72583766e-01,\n",
       "         1.45506672e+00],\n",
       "       [ 2.16029283e+00, -1.34378264e+00, -3.20314708e-03,\n",
       "         6.78215838e-01],\n",
       "       [ 1.92640585e+00,  1.21285529e+00, -4.96161392e-01,\n",
       "         9.79684168e-01],\n",
       "       [-2.73512582e+00, -1.78867289e+00,  1.10801832e+00,\n",
       "        -1.52786704e+00],\n",
       "       [-3.84536516e+00, -7.80563207e-02, -3.63919238e-01,\n",
       "        -2.92430329e-01],\n",
       "       [-2.86129417e+00, -2.18678422e+00,  4.76201152e-01,\n",
       "         6.01711529e-01],\n",
       "       [-2.57305265e+00, -8.02506529e-01,  6.26279674e-01,\n",
       "         8.73147493e-01],\n",
       "       [ 1.07509046e+00,  8.41914722e-01, -6.30605134e-01,\n",
       "         2.61531708e-01],\n",
       "       [ 2.86634855e+00, -1.60668626e+00,  6.18005810e-01,\n",
       "         3.46049615e-01],\n",
       "       [ 1.78736249e+00,  1.46370115e+00, -1.68952677e+00,\n",
       "        -4.47914532e-01],\n",
       "       [ 3.59280506e+00, -1.63743860e+00,  6.88313387e-01,\n",
       "        -2.59651226e-02],\n",
       "       [-2.65783650e+00, -2.95907827e+00,  8.65540190e-01,\n",
       "         4.63055610e-01],\n",
       "       [-1.55788181e+00,  1.56252605e+00,  4.87924521e-01,\n",
       "         1.82101965e+00],\n",
       "       [ 3.40766957e+00, -1.53982200e-01,  2.16549379e+00,\n",
       "        -6.74549178e-01],\n",
       "       [-1.17332565e+00,  2.32466223e+00,  1.29384225e-02,\n",
       "        -4.14188912e-01],\n",
       "       [ 1.75414172e+00,  4.88614701e-01, -2.87003758e-01,\n",
       "         5.07322456e-01],\n",
       "       [-1.00375404e+00,  3.17610060e+00,  4.29219467e+00,\n",
       "         2.21845822e+00],\n",
       "       [-2.33844932e+00, -2.02230956e+00,  1.07274109e+00,\n",
       "        -4.49269639e-01],\n",
       "       [-2.35017968e+00, -4.85584089e-01,  4.37730898e-01,\n",
       "         1.43787901e+00],\n",
       "       [ 2.61964913e+00, -2.22184450e+00,  2.05701658e-01,\n",
       "         2.34224377e-01],\n",
       "       [-2.02192758e+00, -2.09244225e+00, -8.40743715e-01,\n",
       "         1.66806230e-01],\n",
       "       [ 3.89464945e+00, -2.85539929e+00,  3.45233348e-01,\n",
       "        -3.44714900e-01],\n",
       "       [ 2.21140956e+00, -1.24159170e+00,  7.77368696e-01,\n",
       "         1.18076177e+00],\n",
       "       [-2.51875891e+00, -2.17063948e+00,  3.43628364e-01,\n",
       "         1.04786504e+00],\n",
       "       [-2.85757964e+00, -2.80834865e-01, -2.40916932e-02,\n",
       "         1.17080532e+00],\n",
       "       [-2.63917477e+00, -1.99536084e+00,  1.28413471e+00,\n",
       "        -1.22857129e+00],\n",
       "       [-1.59924945e+00,  1.82752199e+00, -7.86473974e-01,\n",
       "        -1.16896871e+00],\n",
       "       [-4.28135649e-01,  2.31418181e+00,  1.31388425e+00,\n",
       "         7.40306395e-01],\n",
       "       [-2.37377697e+00,  1.39292668e+00,  2.01741290e+00,\n",
       "        -4.67844787e-01],\n",
       "       [-3.44231671e-01,  2.92648860e+00, -7.11021341e-01,\n",
       "        -8.13104421e-01],\n",
       "       [ 4.96030127e-01,  2.26714004e+00,  2.46211613e+00,\n",
       "         6.39173502e-01],\n",
       "       [-2.28054082e-01,  5.34805259e-01, -3.15663165e-02,\n",
       "        -2.64581974e+00],\n",
       "       [-3.02416038e+00, -2.62931891e+00, -7.46631551e-01,\n",
       "        -1.46955945e+00],\n",
       "       [ 2.67546824e+00, -7.45386277e-03,  2.05046618e-01,\n",
       "         1.38702848e-01],\n",
       "       [ 2.75416435e+00, -6.82673093e-01, -3.75677610e+00,\n",
       "         1.58455088e+00],\n",
       "       [ 2.57954130e-01,  2.35935075e+00,  6.65452211e-01,\n",
       "        -5.10006892e-01],\n",
       "       [ 2.34397628e+00, -2.46793274e+00, -1.03952867e+00,\n",
       "         5.09601855e-01],\n",
       "       [ 1.01601176e+00,  2.16268605e+00, -1.64416123e-01,\n",
       "         9.77585481e-01],\n",
       "       [ 5.43444765e-01,  2.15115523e+00,  5.43796066e-01,\n",
       "        -2.39102310e-01]])"
      ]
     },
     "execution_count": 107,
     "metadata": {},
     "output_type": "execute_result"
    }
   ],
   "source": [
    "X_train"
   ]
  },
  {
   "cell_type": "code",
   "execution_count": 108,
   "id": "b7cdeb00-f021-42fb-ac26-501292375f03",
   "metadata": {},
   "outputs": [
    {
     "data": {
      "text/plain": [
       "array([[ 0.17085642, -0.24543659,  0.00389333, -0.21284231,  0.09402068,\n",
       "         0.39155537,  0.42063493, -0.30395335,  0.33710022, -0.10101745,\n",
       "         0.30155459,  0.37887553,  0.27468556],\n",
       "       [-0.45970473, -0.27055896, -0.29569792,  0.01248702, -0.38351181,\n",
       "        -0.03113115,  0.01266464,  0.02709569, -0.04564228, -0.50012134,\n",
       "         0.27859408,  0.12701968, -0.36466143],\n",
       "       [ 0.19904882, -0.05927213, -0.64038567, -0.59387491, -0.242714  ,\n",
       "        -0.04660124, -0.07389137, -0.12758519, -0.08914309,  0.23022049,\n",
       "        -0.1582414 , -0.14604309,  0.06283793],\n",
       "       [-0.18119033, -0.39980927,  0.03456793, -0.15149012,  0.58986894,\n",
       "        -0.18043687, -0.15331231, -0.34569815, -0.44749895, -0.06810797,\n",
       "         0.16635939, -0.14224276,  0.08283264]])"
      ]
     },
     "execution_count": 108,
     "metadata": {},
     "output_type": "execute_result"
    }
   ],
   "source": [
    "pca.components_"
   ]
  },
  {
   "cell_type": "code",
   "execution_count": 109,
   "id": "e391d1c9-6500-475a-a850-537142776f79",
   "metadata": {},
   "outputs": [
    {
     "data": {
      "text/plain": [
       "array([0.38299192, 0.20274549, 0.11490761, 0.06743692])"
      ]
     },
     "execution_count": 109,
     "metadata": {},
     "output_type": "execute_result"
    }
   ],
   "source": [
    "pca.explained_variance_ratio_"
   ]
  },
  {
   "cell_type": "code",
   "execution_count": 110,
   "id": "ef94b262-98e8-4aa7-8cc0-cc56cb024dbb",
   "metadata": {},
   "outputs": [
    {
     "data": {
      "text/plain": [
       "<AxesSubplot: >"
      ]
     },
     "execution_count": 110,
     "metadata": {},
     "output_type": "execute_result"
    },
    {
     "data": {
      "image/png": "[encoded data removed]",
      "text/plain": [
       "<Figure size 640x480 with 1 Axes>"
      ]
     },
     "metadata": {},
     "output_type": "display_data"
    }
   ],
   "source": [
    "sns.scatterplot(data=X_train)"
   ]
  },
  {
   "cell_type": "code",
   "execution_count": 111,
   "id": "2059a4a5-f233-45c1-8261-f49d2179bce6",
   "metadata": {},
   "outputs": [],
   "source": [
    "from sklearn.cluster import KMeans"
   ]
  },
  {
   "cell_type": "code",
   "execution_count": 112,
   "id": "3fab8eee-65c5-49c7-b735-7d9041dbba72",
   "metadata": {},
   "outputs": [
    {
     "name": "stderr",
     "output_type": "stream",
     "text": [
      "/opt/conda/lib/python3.10/site-packages/sklearn/cluster/_kmeans.py:870: FutureWarning: The default value of `n_init` will change from 10 to 'auto' in 1.4. Set the value of `n_init` explicitly to suppress the warning\n",
      "  warnings.warn(\n",
      "/opt/conda/lib/python3.10/site-packages/sklearn/cluster/_kmeans.py:870: FutureWarning: The default value of `n_init` will change from 10 to 'auto' in 1.4. Set the value of `n_init` explicitly to suppress the warning\n",
      "  warnings.warn(\n",
      "/opt/conda/lib/python3.10/site-packages/sklearn/cluster/_kmeans.py:870: FutureWarning: The default value of `n_init` will change from 10 to 'auto' in 1.4. Set the value of `n_init` explicitly to suppress the warning\n",
      "  warnings.warn(\n",
      "/opt/conda/lib/python3.10/site-packages/sklearn/cluster/_kmeans.py:870: FutureWarning: The default value of `n_init` will change from 10 to 'auto' in 1.4. Set the value of `n_init` explicitly to suppress the warning\n",
      "  warnings.warn(\n",
      "/opt/conda/lib/python3.10/site-packages/sklearn/cluster/_kmeans.py:870: FutureWarning: The default value of `n_init` will change from 10 to 'auto' in 1.4. Set the value of `n_init` explicitly to suppress the warning\n",
      "  warnings.warn(\n",
      "/opt/conda/lib/python3.10/site-packages/sklearn/cluster/_kmeans.py:870: FutureWarning: The default value of `n_init` will change from 10 to 'auto' in 1.4. Set the value of `n_init` explicitly to suppress the warning\n",
      "  warnings.warn(\n",
      "/opt/conda/lib/python3.10/site-packages/sklearn/cluster/_kmeans.py:870: FutureWarning: The default value of `n_init` will change from 10 to 'auto' in 1.4. Set the value of `n_init` explicitly to suppress the warning\n",
      "  warnings.warn(\n",
      "/opt/conda/lib/python3.10/site-packages/sklearn/cluster/_kmeans.py:870: FutureWarning: The default value of `n_init` will change from 10 to 'auto' in 1.4. Set the value of `n_init` explicitly to suppress the warning\n",
      "  warnings.warn(\n",
      "/opt/conda/lib/python3.10/site-packages/sklearn/cluster/_kmeans.py:870: FutureWarning: The default value of `n_init` will change from 10 to 'auto' in 1.4. Set the value of `n_init` explicitly to suppress the warning\n",
      "  warnings.warn(\n",
      "/opt/conda/lib/python3.10/site-packages/sklearn/cluster/_kmeans.py:870: FutureWarning: The default value of `n_init` will change from 10 to 'auto' in 1.4. Set the value of `n_init` explicitly to suppress the warning\n",
      "  warnings.warn(\n"
     ]
    }
   ],
   "source": [
    "wcss=[]\n",
    "for i in range(1,11):\n",
    "    kmens=KMeans(n_clusters=i,init=\"k-means++\")\n",
    "    kmens.fit(X_train)\n",
    "    wcss.append(kmens.inertia_)"
   ]
  },
  {
   "cell_type": "code",
   "execution_count": 113,
   "id": "0492e53e-b548-4716-a499-7da4d8695219",
   "metadata": {},
   "outputs": [
    {
     "data": {
      "text/plain": [
       "[1168.2526398510752,\n",
       " 699.9416915215114,\n",
       " 446.8198697531172,\n",
       " 386.8539717057639,\n",
       " 337.171831997225,\n",
       " 299.01190350504976,\n",
       " 272.7378834563673,\n",
       " 259.0659089973645,\n",
       " 234.2251736051035,\n",
       " 221.41788663521115]"
      ]
     },
     "execution_count": 113,
     "metadata": {},
     "output_type": "execute_result"
    }
   ],
   "source": [
    "wcss"
   ]
  },
  {
   "cell_type": "code",
   "execution_count": 128,
   "id": "9c35c456-b237-4490-9f8d-a4da11d1189c",
   "metadata": {},
   "outputs": [
    {
     "data": {
      "image/png": "[encoded data removed]",
      "text/plain": [
       "<Figure size 640x480 with 1 Axes>"
      ]
     },
     "metadata": {},
     "output_type": "display_data"
    }
   ],
   "source": [
    "##plot the elbow curve\n",
    "plt.plot(range(1,11),wcss)\n",
    "##plt.xticks(range(1,11))\n",
    "plt.xlabel(\"Number of Clusters\")\n",
    "plt.ylabel(\"WCSS\")\n",
    "plt.show()"
   ]
  },
  {
   "cell_type": "code",
   "execution_count": 114,
   "id": "b3d64675-8592-4f6f-89e0-2d0ce76a83f9",
   "metadata": {},
   "outputs": [
    {
     "name": "stdout",
     "output_type": "stream",
     "text": [
      "Requirement already satisfied: kneed in /opt/conda/lib/python3.10/site-packages (0.8.5)\n",
      "Requirement already satisfied: scipy>=1.0.0 in /opt/conda/lib/python3.10/site-packages (from kneed) (1.9.3)\n",
      "Requirement already satisfied: numpy>=1.14.2 in /opt/conda/lib/python3.10/site-packages (from kneed) (1.23.5)\n",
      "Note: you may need to restart the kernel to use updated packages.\n"
     ]
    }
   ],
   "source": [
    "%pip install kneed"
   ]
  },
  {
   "cell_type": "code",
   "execution_count": 115,
   "id": "6a4d20f9-b06b-4a7c-ad38-bd3f84c516c2",
   "metadata": {},
   "outputs": [],
   "source": [
    "from kneed import KneeLocator"
   ]
  },
  {
   "cell_type": "code",
   "execution_count": 116,
   "id": "101e108f-69bf-469a-bbbd-17b98475fc9d",
   "metadata": {},
   "outputs": [],
   "source": [
    "knee=KneeLocator(range(1,11),wcss,curve='convex',direction=\"decreasing\")"
   ]
  },
  {
   "cell_type": "code",
   "execution_count": 117,
   "id": "7e40cb23-7fd1-49e7-aa76-4b38c9ab9e15",
   "metadata": {},
   "outputs": [
    {
     "data": {
      "text/plain": [
       "3"
      ]
     },
     "execution_count": 117,
     "metadata": {},
     "output_type": "execute_result"
    }
   ],
   "source": [
    "knee.elbow"
   ]
  },
  {
   "cell_type": "code",
   "execution_count": 118,
   "id": "b96de4bc-16ba-4c4c-b6a3-45f4573f691f",
   "metadata": {},
   "outputs": [],
   "source": [
    "kmeans=KMeans(n_clusters=3,init=\"k-means++\")"
   ]
  },
  {
   "cell_type": "code",
   "execution_count": 119,
   "id": "025ebbbd-d39d-4d6f-bfb0-7e108a17cf9b",
   "metadata": {},
   "outputs": [
    {
     "name": "stderr",
     "output_type": "stream",
     "text": [
      "/opt/conda/lib/python3.10/site-packages/sklearn/cluster/_kmeans.py:870: FutureWarning: The default value of `n_init` will change from 10 to 'auto' in 1.4. Set the value of `n_init` explicitly to suppress the warning\n",
      "  warnings.warn(\n"
     ]
    }
   ],
   "source": [
    "y_label=kmeans.fit_predict(X_train)"
   ]
  },
  {
   "cell_type": "code",
   "execution_count": 120,
   "id": "69e3c23b-ff78-44f5-8b77-6ed02568b61d",
   "metadata": {},
   "outputs": [
    {
     "name": "stderr",
     "output_type": "stream",
     "text": [
      "/opt/conda/lib/python3.10/site-packages/matplotlib/collections.py:967: RuntimeWarning: invalid value encountered in sqrt\n",
      "  scale = np.sqrt(self._sizes) * dpi / 72.0 * self._factor\n"
     ]
    },
    {
     "data": {
      "text/plain": [
       "<matplotlib.collections.PathCollection at 0x7f9e80481090>"
      ]
     },
     "execution_count": 120,
     "metadata": {},
     "output_type": "execute_result"
    },
    {
     "data": {
      "image/png": "[encoded data removed]",
      "text/plain": [
       "<Figure size 640x480 with 1 Axes>"
      ]
     },
     "metadata": {},
     "output_type": "display_data"
    }
   ],
   "source": [
    "plt.scatter(X_train[:,0],X_train[:,1],X_train[:,2],c=y_label)"
   ]
  },
  {
   "cell_type": "code",
   "execution_count": 124,
   "id": "2e4c18cc-cc1b-4cac-97a4-9ba3a42c1ad7",
   "metadata": {},
   "outputs": [],
   "source": [
    "from sklearn.metrics import silhouette_score"
   ]
  },
  {
   "cell_type": "code",
   "execution_count": 126,
   "id": "9e826516-8db3-4957-99be-b95d6d88857f",
   "metadata": {},
   "outputs": [
    {
     "name": "stderr",
     "output_type": "stream",
     "text": [
      "/opt/conda/lib/python3.10/site-packages/sklearn/cluster/_kmeans.py:870: FutureWarning: The default value of `n_init` will change from 10 to 'auto' in 1.4. Set the value of `n_init` explicitly to suppress the warning\n",
      "  warnings.warn(\n",
      "/opt/conda/lib/python3.10/site-packages/sklearn/cluster/_kmeans.py:870: FutureWarning: The default value of `n_init` will change from 10 to 'auto' in 1.4. Set the value of `n_init` explicitly to suppress the warning\n",
      "  warnings.warn(\n",
      "/opt/conda/lib/python3.10/site-packages/sklearn/cluster/_kmeans.py:870: FutureWarning: The default value of `n_init` will change from 10 to 'auto' in 1.4. Set the value of `n_init` explicitly to suppress the warning\n",
      "  warnings.warn(\n",
      "/opt/conda/lib/python3.10/site-packages/sklearn/cluster/_kmeans.py:870: FutureWarning: The default value of `n_init` will change from 10 to 'auto' in 1.4. Set the value of `n_init` explicitly to suppress the warning\n",
      "  warnings.warn(\n",
      "/opt/conda/lib/python3.10/site-packages/sklearn/cluster/_kmeans.py:870: FutureWarning: The default value of `n_init` will change from 10 to 'auto' in 1.4. Set the value of `n_init` explicitly to suppress the warning\n",
      "  warnings.warn(\n",
      "/opt/conda/lib/python3.10/site-packages/sklearn/cluster/_kmeans.py:870: FutureWarning: The default value of `n_init` will change from 10 to 'auto' in 1.4. Set the value of `n_init` explicitly to suppress the warning\n",
      "  warnings.warn(\n",
      "/opt/conda/lib/python3.10/site-packages/sklearn/cluster/_kmeans.py:870: FutureWarning: The default value of `n_init` will change from 10 to 'auto' in 1.4. Set the value of `n_init` explicitly to suppress the warning\n",
      "  warnings.warn(\n",
      "/opt/conda/lib/python3.10/site-packages/sklearn/cluster/_kmeans.py:870: FutureWarning: The default value of `n_init` will change from 10 to 'auto' in 1.4. Set the value of `n_init` explicitly to suppress the warning\n",
      "  warnings.warn(\n",
      "/opt/conda/lib/python3.10/site-packages/sklearn/cluster/_kmeans.py:870: FutureWarning: The default value of `n_init` will change from 10 to 'auto' in 1.4. Set the value of `n_init` explicitly to suppress the warning\n",
      "  warnings.warn(\n"
     ]
    }
   ],
   "source": [
    "silhouette_coefficient=[]\n",
    "for i in range(2,11):\n",
    "    kmeans=KMeans(n_clusters=i,init=\"k-means++\")\n",
    "    kmeans.fit(X_train)\n",
    "    score=silhouette_score(X_train,kmeans.labels_)\n",
    "    silhouette_coefficient.append(score)"
   ]
  },
  {
   "cell_type": "code",
   "execution_count": 127,
   "id": "2bbf9c46-9408-4d73-9bd3-6b5a9a0d2f4f",
   "metadata": {},
   "outputs": [
    {
     "data": {
      "text/plain": [
       "[0.3625982543956897,\n",
       " 0.4113150036845185,\n",
       " 0.40589374688665913,\n",
       " 0.34227587134167997,\n",
       " 0.3604201860825926,\n",
       " 0.2906058242099181,\n",
       " 0.262522458144046,\n",
       " 0.24381638576335707,\n",
       " 0.23925188764911995]"
      ]
     },
     "execution_count": 127,
     "metadata": {},
     "output_type": "execute_result"
    }
   ],
   "source": [
    "silhouette_coefficient"
   ]
  },
  {
   "cell_type": "code",
   "execution_count": null,
   "id": "2765d4d9-92f1-4e10-a41e-77f56efe9723",
   "metadata": {},
   "outputs": [],
   "source": []
  }
 ],
 "metadata": {
  "kernelspec": {
   "display_name": "Python 3 (ipykernel)",
   "language": "python",
   "name": "python3"
  },
  "language_info": {
   "codemirror_mode": {
    "name": "ipython",
    "version": 3
   },
   "file_extension": ".py",
   "mimetype": "text/x-python",
   "name": "python",
   "nbconvert_exporter": "python",
   "pygments_lexer": "ipython3",
   "version": "3.10.8"
  }
 },
 "nbformat": 4,
 "nbformat_minor": 5
}
